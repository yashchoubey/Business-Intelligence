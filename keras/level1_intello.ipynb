{
  "nbformat": 4,
  "nbformat_minor": 0,
  "metadata": {
    "colab": {
      "name": "level1_intello.ipynb",
      "version": "0.3.2",
      "provenance": [],
      "collapsed_sections": []
    },
    "kernelspec": {
      "name": "python2",
      "display_name": "Python 2"
    },
    "accelerator": "GPU"
  },
  "cells": [
    {
      "metadata": {
        "id": "jQuk6sef0_hQ",
        "colab_type": "code",
        "colab": {
          "base_uri": "https://localhost:8080/",
          "height": 158
        },
        "outputId": "a9becf83-64c2-4719-9862-239894837b96"
      },
      "cell_type": "code",
      "source": [
        "\n",
        "!wget https://s3.ap-south-1.amazonaws.com/discovery-nlp-data/images_level1.npy\n",
        "!wget https://s3.ap-south-1.amazonaws.com/discovery-nlp-data/labels_level1.npy\n",
        "!ls\n",
        "!free -m"
      ],
      "execution_count": 6,
      "outputs": [
        {
          "output_type": "stream",
          "text": [
            "\n",
            "Redirecting output to ‘wget-log’.\n",
            "\n",
            "Redirecting output to ‘wget-log.1’.\n",
            "images_level1.npy  labels_level1.npy  sample_data  wget-log  wget-log.1\n",
            "              total        used        free      shared  buff/cache   available\n",
            "Mem:          13022         463         809         248       11749       12010\n",
            "Swap:             0           0           0\n"
          ],
          "name": "stdout"
        }
      ]
    },
    {
      "metadata": {
        "id": "d-4wcKum1OHa",
        "colab_type": "code",
        "colab": {
          "base_uri": "https://localhost:8080/",
          "height": 35
        },
        "outputId": "264e7a63-9bfb-4163-d394-f0b8caf253c5"
      },
      "cell_type": "code",
      "source": [
        "from keras.models import Sequential\n",
        "from keras.layers import Convolution2D\n",
        "from keras.layers import Conv2D\n",
        "from keras.layers import PReLU\n",
        "from keras.layers import MaxPooling2D\n",
        "from keras.layers.core import Dense, Dropout, Activation, Flatten\n",
        "\n",
        "import gc\n",
        "import numpy as np\n",
        "import pandas as pd\n",
        "\n",
        "# SKLEARN\n",
        "from sklearn.utils import shuffle\n",
        "from sklearn.model_selection import train_test_split\n",
        "\n",
        "import numpy as np\n",
        "\t\n",
        "\n"
      ],
      "execution_count": 7,
      "outputs": [
        {
          "output_type": "stream",
          "text": [
            "Using TensorFlow backend.\n"
          ],
          "name": "stderr"
        }
      ]
    },
    {
      "metadata": {
        "id": "yOzuObYq1SRb",
        "colab_type": "code",
        "colab": {
          "base_uri": "https://localhost:8080/",
          "height": 123
        },
        "outputId": "3c816cd5-079f-41e5-f046-a2bdd1af9879"
      },
      "cell_type": "code",
      "source": [
        "\n",
        "# input image dimensions\n",
        "img_rows, img_cols = 100,100#200,200\n",
        "\n",
        "# number of channels\n",
        "img_channels = 1\n",
        "\n",
        "immatrix = np.load('images_level1.npy')\n",
        "print (immatrix.shape)\n",
        "labal = np.load('labels_level1.npy')\n",
        "print (labal.shape)\n",
        "\n",
        "#labal=np.array(labal)\n",
        "data,Label = shuffle(immatrix,labal, random_state=4)\n",
        "train_data = [data,Label]\n",
        "\n",
        "del immatrix,labal\n",
        "gc.collect()\n",
        "\n",
        "#batch_size to train\n",
        "batch_size = 60\n",
        "# number of output classes\n",
        "nb_classes = 3\n",
        "# number of epochs to train\n",
        "nb_epoch = 100\n",
        "\n",
        "(X, y) = (train_data[0],train_data[1])\n",
        "del train_data\n",
        "gc.collect()\n",
        "# STEP 1: split X and y into training and testing sets\n",
        "\n",
        "X_train, X_test, y_train, y_test = train_test_split(X, y, test_size=0.10, random_state=4)\n",
        "X_train, X_val, y_train, y_val = train_test_split(X_train, y_train, test_size=0.11, random_state=4)\n",
        "del X, y\n",
        "gc.collect()\n",
        "\n",
        "X_train = X_train.reshape(X_train.shape[0], 3, img_rows, img_cols)\n",
        "X_val = X_val.reshape(X_val.shape[0], 3, img_rows, img_cols)\n",
        "X_test = X_test.reshape(X_test.shape[0], 3, img_rows, img_cols)\n",
        "import time\n",
        " \n",
        "# time.sleep(5)\n",
        "print X_train.shape[0]\n",
        "# n = X_train.shape[0]\n",
        "# d1 = X_train[:, :n/2].astype('float')\n",
        "# d2 = X_train[:, n/2:].astype('float')\n",
        "# X_train = np.hstack(d1, d2)\n",
        "X_train = X_train.astype('float32')\n",
        "X_val = X_val.astype('float32')\n",
        "X_test = X_test.astype('float32')\n",
        "\n",
        "X_train /= (256)\n",
        "X_val /= (256)\n",
        "X_test /= (256)\n",
        "\n",
        "print('X_train shape:', X_train.shape)\n",
        "print(X_train.shape[0], 'train samples')\n",
        "print(X_test.shape[0], 'test samples')\n",
        "\n",
        "# convert class vectors to binary class matrices\n",
        "Y_train = y_train#np_utils.to_categorical(y_train, nb_classes)\n",
        "Y_val = y_val#np_utils.to_categorical(y_val, nb_classes)\n",
        "Y_test = y_test#np_utils.to_categorical(y_test, nb_classes)\n",
        "\n",
        "del y_train,y_val,y_test"
      ],
      "execution_count": 8,
      "outputs": [
        {
          "output_type": "stream",
          "text": [
            "(27587, 30000)\n",
            "(27587, 3)\n",
            "22096\n",
            "('X_train shape:', (22096, 3, 100, 100))\n",
            "(22096, 'train samples')\n",
            "(2759, 'test samples')\n"
          ],
          "name": "stdout"
        }
      ]
    },
    {
      "metadata": {
        "id": "Olm1dg4hKu8O",
        "colab_type": "code",
        "colab": {
          "base_uri": "https://localhost:8080/",
          "height": 70
        },
        "outputId": "d9159a47-2332-4736-c2a5-b29fe6c9deba"
      },
      "cell_type": "code",
      "source": [
        "# del hist\n",
        "del model\n",
        "!free -m"
      ],
      "execution_count": 31,
      "outputs": [
        {
          "output_type": "stream",
          "text": [
            "              total        used        free      shared  buff/cache   available\n",
            "Mem:          13022        5709         266         387        7046        8223\n",
            "Swap:             0           0           0\n"
          ],
          "name": "stdout"
        }
      ]
    },
    {
      "metadata": {
        "id": "Y0qTcG6y1SaI",
        "colab_type": "code",
        "colab": {}
      },
      "cell_type": "code",
      "source": [
        "\n",
        "model = Sequential() \t\t\n",
        "model.add(Convolution2D(128, (3, 3),input_shape=(3,img_rows,img_cols)))\n",
        "model.add(PReLU(alpha_initializer = 'zeros',weights = None))\n",
        "#model.add(BatchNormalization())\n",
        "model.add(Convolution2D(128, (3, 3), data_format='channels_first'))\n",
        "#model.add(Dropout(0.5))\t\n",
        "model.add(PReLU(alpha_initializer = 'zeros',weights = None))\n",
        "#model.add(BatchNormalization())\n",
        "model.add(MaxPooling2D((2,2), strides=(2,2)))\n",
        "\t\n",
        "\n",
        "model.add(Convolution2D(64, (3, 3), data_format='channels_first'))\n",
        "#model.add(Dropout(0.5))\t\n",
        "model.add(PReLU(alpha_initializer='zeros',weights = None))\n",
        "#model.add(BatchNormalization())\n",
        "\n",
        "# model.add(Convolution2D(64, (3, 3), data_format='channels_first'))\n",
        "# #model.add(Dropout(0.5))\t\n",
        "# model.add(PReLU(alpha_initializer='zeros',weights = None))\n",
        "#model.add(BatchNormalization()) \n",
        "model.add(MaxPooling2D((2,2), strides=(2,2)))\n",
        "\n",
        "\n",
        "model.add(Flatten())\n",
        "model.add(Dense(256))\n",
        "model.add(PReLU(alpha_initializer = 'zeros',weights = None))\n",
        "#model.add(Dropout(0.5))\t\t\n",
        "num_classes=3\n",
        "model.add(Dense(num_classes, activation='softmax'))\n",
        "model.compile(loss='categorical_crossentropy', optimizer='adam', metrics=['accuracy'])\n"
      ],
      "execution_count": 0,
      "outputs": []
    },
    {
      "metadata": {
        "id": "xzJzP7lr1obn",
        "colab_type": "code",
        "colab": {
          "base_uri": "https://localhost:8080/",
          "height": 318
        },
        "outputId": "20811cc1-3fd9-44bd-d85a-d1b893bc1205"
      },
      "cell_type": "code",
      "source": [
        "# print Y_train\n",
        "import numpy as np\n",
        "from sklearn.utils.class_weight import compute_class_weight\n",
        "\n",
        "y_integers = np.argmax(Y_train, axis=1)\n",
        "class_weights = compute_class_weight('balanced', np.unique(y_integers), y_integers)\n",
        "d_class_weights = dict(enumerate(class_weights))\n",
        "\n",
        "\n",
        "from sklearn.utils import class_weight\n",
        "# class_weight = class_weight.compute_class_weight('balanced',np.unique(Y_train),Y_train)\n",
        "# hist = model.fit(X_train, Y_train, batch_size=200, epochs=8, verbose=1, validation_data=(X_val, Y_val),class_weight = d_class_weights)\n",
        "hist = model.fit(X_train, Y_train, batch_size=225, epochs=8, verbose=1, validation_data=(X_val, Y_val))\n",
        "           \n"
      ],
      "execution_count": 35,
      "outputs": [
        {
          "output_type": "stream",
          "text": [
            "Train on 22096 samples, validate on 2732 samples\n",
            "Epoch 1/8\n",
            "22096/22096 [==============================] - 115s 5ms/step - loss: 0.4388 - acc: 0.8449 - val_loss: 0.3838 - val_acc: 0.8536\n",
            "Epoch 2/8\n",
            "22096/22096 [==============================] - 111s 5ms/step - loss: 0.3590 - acc: 0.8622 - val_loss: 0.3781 - val_acc: 0.8536\n",
            "Epoch 3/8\n",
            "22096/22096 [==============================] - 111s 5ms/step - loss: 0.3566 - acc: 0.8623 - val_loss: 0.3733 - val_acc: 0.8536\n",
            "Epoch 4/8\n",
            "22096/22096 [==============================] - 111s 5ms/step - loss: 0.3533 - acc: 0.8623 - val_loss: 0.3910 - val_acc: 0.8536\n",
            "Epoch 5/8\n",
            "22096/22096 [==============================] - 111s 5ms/step - loss: 0.3515 - acc: 0.8621 - val_loss: 0.4371 - val_acc: 0.8536\n",
            "Epoch 6/8\n",
            "22096/22096 [==============================] - 111s 5ms/step - loss: 0.3524 - acc: 0.8619 - val_loss: 0.3696 - val_acc: 0.8514\n",
            "Epoch 7/8\n",
            "22096/22096 [==============================] - 111s 5ms/step - loss: 0.3509 - acc: 0.8622 - val_loss: 0.3693 - val_acc: 0.8536\n",
            "Epoch 8/8\n",
            "22096/22096 [==============================] - 111s 5ms/step - loss: 0.3459 - acc: 0.8621 - val_loss: 0.3661 - val_acc: 0.8540\n"
          ],
          "name": "stdout"
        }
      ]
    },
    {
      "metadata": {
        "id": "ZDFNddel1onp",
        "colab_type": "code",
        "colab": {
          "base_uri": "https://localhost:8080/",
          "height": 265
        },
        "outputId": "ff43cae1-fedc-4924-e942-c8695598bd6c"
      },
      "cell_type": "code",
      "source": [
        "\n",
        "\n",
        "score = model.evaluate(X_test, Y_test,batch_size=225, verbose=1)\n",
        "print('Test score:', score[0])\n",
        "print('Test accuracy:', score[1])\n",
        "# print(model.predict_classes(X_test[1:5]))\n",
        "# print(Y_test[1:5])\n",
        "\n",
        "\n",
        "# Confusion Matrix\n",
        "\n",
        "from sklearn.metrics import classification_report,confusion_matrix\n",
        "y_pred = model.predict_classes(X_test)\n",
        "p=model.predict_proba(X_test) # to predict probability\n",
        "target_names = ['class 0', 'class 1', 'class 2']\n",
        "print(classification_report(np.argmax(Y_test,axis=1), y_pred,target_names=target_names))\n",
        "print(confusion_matrix(np.argmax(Y_test,axis=1), y_pred))"
      ],
      "execution_count": 43,
      "outputs": [
        {
          "output_type": "stream",
          "text": [
            "2759/2759 [==============================] - 5s 2ms/step\n",
            "('Test score:', 0.340634874899606)\n",
            "('Test accuracy:', 0.8637187375500394)\n",
            "             precision    recall  f1-score   support\n",
            "\n",
            "    class 0       0.71      0.01      0.03       378\n",
            "    class 1       0.00      0.00      0.00         1\n",
            "    class 2       0.86      1.00      0.93      2380\n",
            "\n",
            "avg / total       0.84      0.86      0.80      2759\n",
            "\n",
            "[[   5    0  373]\n",
            " [   0    0    1]\n",
            " [   2    0 2378]]\n"
          ],
          "name": "stdout"
        }
      ]
    },
    {
      "metadata": {
        "id": "G0-Yy8j61oww",
        "colab_type": "code",
        "colab": {
          "base_uri": "https://localhost:8080/",
          "height": 571
        },
        "outputId": "719fdf7d-1073-4500-e862-a8f30cc7a026"
      },
      "cell_type": "code",
      "source": [
        "import matplotlib.pyplot as plt\n",
        "\n",
        "%matplotlib inline\n",
        "plt.plot(hist.history['acc'])\n",
        "plt.plot(hist.history['val_acc'])\n",
        "plt.title('model accuracy')\n",
        "plt.ylabel('accuracy')\n",
        "plt.xlabel('epoch')\n",
        "plt.legend(['train', 'test'], loc='upper left')\n",
        "plt.show()\n",
        "plt.plot(hist.history['loss'])\n",
        "plt.plot(hist.history['val_loss'])\n",
        "plt.title('model loss')\n",
        "plt.ylabel('loss')\n",
        "plt.xlabel('epoch')\n",
        "plt.legend(['train', 'test'], loc='upper left')\n",
        "plt.show()"
      ],
      "execution_count": 44,
      "outputs": [
        {
          "output_type": "display_data",
          "data": {
            "image/png": "[encoded data removed]",
            "text/plain": [
              "<matplotlib.figure.Figure at 0x7fbdc6fb6250>"
            ]
          },
          "metadata": {
            "tags": []
          }
        },
        {
          "output_type": "display_data",
          "data": {
            "image/png": "[encoded data removed]",
            "text/plain": [
              "<matplotlib.figure.Figure at 0x7fbdc6d44c90>"
            ]
          },
          "metadata": {
            "tags": []
          }
        }
      ]
    },
    {
      "metadata": {
        "id": "HuXx0-tt1o5P",
        "colab_type": "code",
        "colab": {
          "base_uri": "https://localhost:8080/",
          "height": 353
        },
        "outputId": "d23f01c8-170b-4992-97dd-af35bc1bcbb6"
      },
      "cell_type": "code",
      "source": [
        "model.save_weights(\"model.h5\")\n",
        "from google.colab import files\n",
        "files.download(\"model.h5\")"
      ],
      "execution_count": 40,
      "outputs": [
        {
          "output_type": "stream",
          "text": [
            "----------------------------------------\n",
            "Exception happened during processing of request from ('::ffff:127.0.0.1', 38078, 0, 0)\n",
            "----------------------------------------\n"
          ],
          "name": "stdout"
        },
        {
          "output_type": "stream",
          "text": [
            "Traceback (most recent call last):\n",
            "  File \"/usr/lib/python2.7/SocketServer.py\", line 290, in _handle_request_noblock\n",
            "    self.process_request(request, client_address)\n",
            "  File \"/usr/lib/python2.7/SocketServer.py\", line 318, in process_request\n",
            "    self.finish_request(request, client_address)\n",
            "  File \"/usr/lib/python2.7/SocketServer.py\", line 331, in finish_request\n",
            "    self.RequestHandlerClass(request, client_address, self)\n",
            "  File \"/usr/lib/python2.7/SocketServer.py\", line 654, in __init__\n",
            "    self.finish()\n",
            "  File \"/usr/lib/python2.7/SocketServer.py\", line 713, in finish\n",
            "    self.wfile.close()\n",
            "  File \"/usr/lib/python2.7/socket.py\", line 283, in close\n",
            "    self.flush()\n",
            "  File \"/usr/lib/python2.7/socket.py\", line 307, in flush\n",
            "    self._sock.sendall(view[write_offset:write_offset+buffer_size])\n",
            "error: [Errno 32] Broken pipe\n"
          ],
          "name": "stderr"
        }
      ]
    },
    {
      "metadata": {
        "id": "uBEKOOuS1Shr",
        "colab_type": "code",
        "colab": {}
      },
      "cell_type": "code",
      "source": [
        ""
      ],
      "execution_count": 0,
      "outputs": []
    },
    {
      "metadata": {
        "id": "gLyd-xtZ1Sqz",
        "colab_type": "code",
        "colab": {}
      },
      "cell_type": "code",
      "source": [
        ""
      ],
      "execution_count": 0,
      "outputs": []
    }
  ]
}